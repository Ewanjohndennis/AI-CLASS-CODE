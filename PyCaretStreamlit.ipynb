{
  "nbformat": 4,
  "nbformat_minor": 0,
  "metadata": {
    "colab": {
      "private_outputs": true,
      "provenance": []
    },
    "kernelspec": {
      "name": "python3",
      "display_name": "Python 3"
    },
    "language_info": {
      "name": "python"
    }
  },
  "cells": [
    {
      "cell_type": "code",
      "source": [
        "!pip install pycaret streamlit pandas scikit-learn\n",
        "!npm install localtunnel"
      ],
      "metadata": {
        "id": "K2DYYNHYtqTz"
      },
      "execution_count": null,
      "outputs": []
    },
    {
      "cell_type": "code",
      "source": [
        "%%writefile app.py\n",
        "\n",
        "import streamlit as st\n",
        "import pandas as pd\n",
        "from pycaret.classification import setup, compare_models, predict_model, save_model, load_model\n",
        "from sklearn.datasets import load_iris\n",
        "\n",
        "# Load the Iris dataset\n",
        "def load_data():\n",
        "    iris = load_iris()\n",
        "    df = pd.DataFrame(data=iris.data, columns=iris.feature_names)\n",
        "    df['target'] = iris.target\n",
        "    return df\n",
        "\n",
        "# Train and save the model\n",
        "def train_model():\n",
        "    df = load_data()\n",
        "    st.write(\"### Iris Dataset\", df.head())\n",
        "\n",
        "    # Set up and compare models\n",
        "    clf = setup(df, target='target', session_id=123)\n",
        "    best_model = compare_models()\n",
        "\n",
        "    st.success(f\"Best Model: {best_model}\")\n",
        "\n",
        "    # Save model\n",
        "    save_model(best_model, 'iris_model')\n",
        "\n",
        "# Predict using the trained model\n",
        "def predict(sepal_length, sepal_width, petal_length, petal_width):\n",
        "    model = load_model('iris_model')\n",
        "    input_df = pd.DataFrame([[sepal_length, sepal_width, petal_length, petal_width]],\n",
        "                            columns=['sepal length (cm)', 'sepal width (cm)', 'petal length (cm)', 'petal width (cm)'])\n",
        "    prediction = predict_model(model, data=input_df)\n",
        "    return prediction['prediction_label'][0]\n",
        "\n",
        "# Streamlit UI\n",
        "def main():\n",
        "\n",
        "\n",
        "    iris = load_iris()\n",
        "    X=iris.data\n",
        "    st.title(\"Iris Flower Classification using PyCaret\")\n",
        "\n",
        "    menu = ['Train Model', 'Predict']\n",
        "    choice = st.sidebar.selectbox(\"Menu\", menu)\n",
        "\n",
        "    if choice == 'Train Model':\n",
        "        st.subheader(\"Train the Model\")\n",
        "        if st.button(\"Train Model\"):\n",
        "            train_model()\n",
        "\n",
        "    elif choice == 'Predict':\n",
        "        st.subheader(\"Make a Prediction\")\n",
        "        sepal_length = st.slider(\"Sepal Length (cm)\", float(X[:, 0].min()), float(X[:, 0].max()), float(X[:, 0].mean()))\n",
        "        sepal_width = st.slider(\"Sepal Width (cm)\", float(X[:, 1].min()), float(X[:, 1].max()), float(X[:, 1].mean()))\n",
        "        petal_length = st.slider(\"Petal Length (cm)\", float(X[:, 2].min()), float(X[:, 2].max()), float(X[:, 2].mean()))\n",
        "        petal_width = st.slider(\"Petal Width (cm)\", float(X[:, 3].min()), float(X[:, 3].max()), float(X[:, 3].mean()))\n",
        "\n",
        "        if st.button(\"Predict\"):\n",
        "            result = predict(sepal_length, sepal_width, petal_length, petal_width)\n",
        "            if result == 0:\n",
        "                fclass = 'Setosa'\n",
        "            elif result == 1:\n",
        "                fclass = 'Versicolor'\n",
        "            else:\n",
        "                fclass = 'Virginica'\n",
        "            st.success(f\"Predicted Class: {fclass}\")\n",
        "\n",
        "if __name__ == '__main__':\n",
        "    main()"
      ],
      "metadata": {
        "id": "Dg_IEYvuvcsN"
      },
      "execution_count": null,
      "outputs": []
    },
    {
      "cell_type": "code",
      "source": [
        "!wget -q -O - ipv4.icanhazip.com"
      ],
      "metadata": {
        "id": "OFVxnSQBwDXo"
      },
      "execution_count": null,
      "outputs": []
    },
    {
      "cell_type": "code",
      "source": [
        "!streamlit run app.py &>/content/logs.txt &"
      ],
      "metadata": {
        "id": "kZbYGFSSvm7X"
      },
      "execution_count": null,
      "outputs": []
    },
    {
      "cell_type": "code",
      "source": [
        "!npx localtunnel --port 8501"
      ],
      "metadata": {
        "id": "Q8qLaj3GvrGd"
      },
      "execution_count": null,
      "outputs": []
    },
    {
      "cell_type": "code",
      "source": [],
      "metadata": {
        "id": "9GHeJTYwvueK"
      },
      "execution_count": null,
      "outputs": []
    }
  ]
}